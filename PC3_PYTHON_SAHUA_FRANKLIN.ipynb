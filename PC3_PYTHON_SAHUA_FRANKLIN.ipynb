{
  "nbformat": 4,
  "nbformat_minor": 0,
  "metadata": {
    "colab": {
      "provenance": []
    },
    "kernelspec": {
      "name": "python3",
      "display_name": "Python 3"
    },
    "language_info": {
      "name": "python"
    }
  },
  "cells": [
    {
      "cell_type": "code",
      "source": [
        "#Problema 1 - Fracción a porcentaje con manejo de errores\n",
        "\n",
        "def obtener_porcentaje_combustible():\n",
        "    while True:\n",
        "        try:\n",
        "            fraccion = input(\"Ingrese una fracción (X/Y): \")\n",
        "            x, y = fraccion.split(\"/\")\n",
        "            x = int(x)\n",
        "            y = int(y)\n",
        "\n",
        "            if y == 0:\n",
        "                raise ZeroDivisionError\n",
        "            if x > y:\n",
        "                print(\"X debe ser menor o igual a Y.\")\n",
        "                continue\n",
        "\n",
        "            porcentaje = round((x / y) * 100)\n",
        "\n",
        "            if porcentaje < 1:\n",
        "                print(\"E\")\n",
        "            elif porcentaje > 99:\n",
        "                print(\"F\")\n",
        "            else:\n",
        "                print(f\"{porcentaje}%\")\n",
        "            break\n",
        "        except ValueError:\n",
        "            print(\"Error: Ingrese números enteros en el formato X/Y.\")\n",
        "        except ZeroDivisionError:\n",
        "            print(\"Error: El denominador no puede ser 0.\")\n",
        "\n",
        "obtener_porcentaje_combustible()\n"
      ],
      "metadata": {
        "colab": {
          "base_uri": "https://localhost:8080/"
        },
        "id": "j8MStNmVwQiE",
        "outputId": "487b8eab-7121-4a87-fdbe-703447a771b7"
      },
      "execution_count": 1,
      "outputs": [
        {
          "output_type": "stream",
          "name": "stdout",
          "text": [
            "Ingrese una fracción (X/Y): 3/5\n",
            "60%\n"
          ]
        }
      ]
    },
    {
      "cell_type": "code",
      "source": [
        "#Problema 2 - Lista de calificaciones\n",
        "\n",
        "def leer_calificaciones():\n",
        "    entrada = input(\"Ingrese calificaciones separadas por comas: \")\n",
        "    calificaciones = entrada.split(\",\")\n",
        "    notas = []\n",
        "\n",
        "    for cal in calificaciones:\n",
        "        try:\n",
        "            notas.append(int(cal.strip()))\n",
        "        except ValueError:\n",
        "            print(f\"'{cal}' no es un número válido.\")\n",
        "    print(\"Notas válidas registradas:\", notas)\n",
        "\n",
        "leer_calificaciones()\n"
      ],
      "metadata": {
        "colab": {
          "base_uri": "https://localhost:8080/"
        },
        "id": "iwlQZVPdxMMQ",
        "outputId": "34316897-9e18-47fc-9d29-232664963a5d"
      },
      "execution_count": 2,
      "outputs": [
        {
          "output_type": "stream",
          "name": "stdout",
          "text": [
            "Ingrese calificaciones separadas por comas: 15,16,12,11,20\n",
            "Notas válidas registradas: [15, 16, 12, 11, 20]\n"
          ]
        }
      ]
    },
    {
      "cell_type": "code",
      "source": [
        "#Problema 3 - Clase CIRCULO\n",
        "\n",
        "import math\n",
        "\n",
        "class Circulo:\n",
        "    def __init__(self, radio):\n",
        "        self.radio = radio\n",
        "\n",
        "    def area(self):\n",
        "        return math.pi * self.radio ** 2\n",
        "\n",
        "c1 = Circulo(10)\n",
        "c2 = Circulo(20)\n",
        "\n",
        "print(\"Área del círculo 1:\", round(c1.area(), 2))\n",
        "print(\"Área del círculo 2:\", round(c2.area(), 2))\n"
      ],
      "metadata": {
        "colab": {
          "base_uri": "https://localhost:8080/"
        },
        "id": "_UsH4bg7zYZs",
        "outputId": "1c3a87a0-fa0c-46c3-9579-aeda8b9a7436"
      },
      "execution_count": 4,
      "outputs": [
        {
          "output_type": "stream",
          "name": "stdout",
          "text": [
            "Área del círculo 1: 314.16\n",
            "Área del círculo 2: 1256.64\n"
          ]
        }
      ]
    },
    {
      "cell_type": "code",
      "source": [
        "#Problema 4 - Rectángulo y Cuadrado\n",
        "\n",
        "class Rectangulo:\n",
        "    def __init__(self, largo, ancho):\n",
        "        self.largo = largo\n",
        "        self.ancho = ancho\n",
        "\n",
        "    def area(self):\n",
        "        return self.largo * self.ancho\n",
        "\n",
        "class Cuadrado(Rectangulo):\n",
        "    def __init__(self, lado):\n",
        "        super().__init__(lado, lado)\n",
        "\n",
        "r = Rectangulo(8, 12)\n",
        "c = Cuadrado(10)\n",
        "\n",
        "print(\"Área del rectángulo:\", r.area())\n",
        "print(\"Área del cuadrado:\", c.area())\n"
      ],
      "metadata": {
        "colab": {
          "base_uri": "https://localhost:8080/"
        },
        "id": "JwEd_5CI0BOb",
        "outputId": "fd4a544a-cc12-4cd9-8a3c-d55239878255"
      },
      "execution_count": 6,
      "outputs": [
        {
          "output_type": "stream",
          "name": "stdout",
          "text": [
            "Área del rectángulo: 96\n",
            "Área del cuadrado: 100\n"
          ]
        }
      ]
    },
    {
      "cell_type": "code",
      "source": [
        "#Problema 5 - Clase Alumno\n",
        "\n",
        "class Alumno:\n",
        "    def __init__(self, nombre, registro):\n",
        "        self.nombre = nombre\n",
        "        self.registro = registro\n",
        "        self.edad = None\n",
        "        self.nota = None\n",
        "\n",
        "    def display(self):\n",
        "        print(f\"Nombre: {self.nombre}, Registro: {self.registro}, Edad: {self.edad}, Nota: {self.nota}\")\n",
        "\n",
        "    def setAge(self, edad):\n",
        "        self.edad = edad\n",
        "\n",
        "    def setNota(self, nota):\n",
        "        self.nota = nota\n",
        "\n",
        "a = Alumno(\"Franklin\", \"20120187\")\n",
        "a.setAge(20)\n",
        "a.setNota(17.5)\n",
        "a.display()\n"
      ],
      "metadata": {
        "colab": {
          "base_uri": "https://localhost:8080/"
        },
        "id": "LafDlbYS3Pb6",
        "outputId": "8750d64d-1ad0-4ae1-ff94-0ba570860481"
      },
      "execution_count": 8,
      "outputs": [
        {
          "output_type": "stream",
          "name": "stdout",
          "text": [
            "Nombre: Franklin, Registro: 20120187, Edad: 20, Nota: 17.5\n"
          ]
        }
      ]
    },
    {
      "cell_type": "code",
      "source": [
        "#Problema 6 - API SUNAT tipo de cambio\n",
        "!pip install requests\n",
        "\n",
        "import requests\n",
        "\n",
        "def obtener_tipo_cambio_sunat():\n",
        "    compras, ventas, diferencias = [], [], []\n",
        "    fechas_compras, fechas_ventas, fechas_dif = [], [], []\n",
        "\n",
        "    for mes in range(1, 13):\n",
        "        try:\n",
        "            url = f\"https://api.apis.net.pe/v1/tipo-cambio-sunat?month={mes}&year=2025\"\n",
        "            response = requests.get(url)\n",
        "            data = response.json()\n",
        "\n",
        "            for d in data:\n",
        "                compra = float(d[\"compra\"])\n",
        "                venta = float(d[\"venta\"])\n",
        "                fecha = d[\"fecha\"]\n",
        "\n",
        "                compras.append(compra)\n",
        "                ventas.append(venta)\n",
        "                diferencias.append(venta - compra)\n",
        "                fechas_compras.append(fecha)\n",
        "                fechas_ventas.append(fecha)\n",
        "                fechas_dif.append(fecha)\n",
        "\n",
        "        except requests.RequestException:\n",
        "            print(\"Error al conectarse al API.\")\n",
        "\n",
        "    # Resultados\n",
        "    min_compra = min(compras)\n",
        "    max_venta = max(ventas)\n",
        "    max_dif = max(diferencias)\n",
        "\n",
        "    print(\"Fecha con menor valor de compra:\", fechas_compras[compras.index(min_compra)])\n",
        "    print(\"Fecha con mayor valor de venta:\", fechas_ventas[ventas.index(max_venta)])\n",
        "    print(\"Fecha con mayor diferencia de compra/venta:\", fechas_dif[diferencias.index(max_dif)])\n",
        "\n",
        "obtener_tipo_cambio_sunat()\n"
      ],
      "metadata": {
        "colab": {
          "base_uri": "https://localhost:8080/"
        },
        "id": "bZZ6PlD44fZJ",
        "outputId": "24a24413-f5b6-4d61-8436-112a4825de4b"
      },
      "execution_count": 9,
      "outputs": [
        {
          "output_type": "stream",
          "name": "stdout",
          "text": [
            "Requirement already satisfied: requests in /usr/local/lib/python3.11/dist-packages (2.32.3)\n",
            "Requirement already satisfied: charset-normalizer<4,>=2 in /usr/local/lib/python3.11/dist-packages (from requests) (3.4.2)\n",
            "Requirement already satisfied: idna<4,>=2.5 in /usr/local/lib/python3.11/dist-packages (from requests) (3.10)\n",
            "Requirement already satisfied: urllib3<3,>=1.21.1 in /usr/local/lib/python3.11/dist-packages (from requests) (2.4.0)\n",
            "Requirement already satisfied: certifi>=2017.4.17 in /usr/local/lib/python3.11/dist-packages (from requests) (2025.7.14)\n",
            "Error al conectarse al API.\n",
            "Error al conectarse al API.\n",
            "Error al conectarse al API.\n",
            "Error al conectarse al API.\n",
            "Error al conectarse al API.\n",
            "Error al conectarse al API.\n",
            "Error al conectarse al API.\n",
            "Error al conectarse al API.\n",
            "Error al conectarse al API.\n",
            "Error al conectarse al API.\n",
            "Fecha con menor valor de compra: 2025-01-25\n",
            "Fecha con mayor valor de venta: 2025-01-14\n",
            "Fecha con mayor diferencia de compra/venta: 2025-01-21\n"
          ]
        }
      ]
    },
    {
      "cell_type": "code",
      "source": [
        "#Problema 7 - FIGlet\n",
        "!pip install pyfiglet\n",
        "\n",
        "from pyfiglet import Figlet\n",
        "import random\n",
        "\n",
        "figlet = Figlet()\n",
        "fuentes = figlet.getFonts()\n",
        "\n",
        "fuente = input(\"Ingrese el nombre de una fuente (ENTER para aleatoria): \")\n",
        "texto = input(\"Ingrese el texto a mostrar: \")\n",
        "\n",
        "if fuente.strip() == \"\":\n",
        "    fuente = random.choice(fuentes)\n",
        "\n",
        "figlet.setFont(font=fuente)\n",
        "print(figlet.renderText(texto))\n"
      ],
      "metadata": {
        "colab": {
          "base_uri": "https://localhost:8080/"
        },
        "id": "0P2F4_809S40",
        "outputId": "602402af-2002-4208-e29b-6b7ef3fe5cb4"
      },
      "execution_count": 11,
      "outputs": [
        {
          "output_type": "stream",
          "name": "stdout",
          "text": [
            "Requirement already satisfied: pyfiglet in /usr/local/lib/python3.11/dist-packages (1.0.3)\n",
            "Ingrese el nombre de una fuente (ENTER para aleatoria): rectangles\n",
            "Ingrese el texto a mostrar: HELLO WORLD\n",
            "                                                                \n",
            " _____ _____ __    __    _____    _ _ _ _____ _____ __    ____  \n",
            "|  |  |   __|  |  |  |  |     |  | | | |     | __  |  |  |    \\ \n",
            "|     |   __|  |__|  |__|  |  |  | | | |  |  |    -|  |__|  |  |\n",
            "|__|__|_____|_____|_____|_____|  |_____|_____|__|__|_____|____/ \n",
            "                                                                \n",
            "\n"
          ]
        }
      ]
    },
    {
      "cell_type": "code",
      "source": [
        "#Problema 8 - Imagen en ZIP\n",
        "import requests\n",
        "import zipfile\n",
        "import os\n",
        "\n",
        "# Descargar imagen\n",
        "img_url = \"https://images.unsplash.com/photo-1546527868-ccb7ee7dfa6a?q=80&w=2070&auto=format&fit=crop\"\n",
        "img_data = requests.get(img_url).content\n",
        "\n",
        "# Guardar imagen\n",
        "img_name = \"imagen.jpg\"\n",
        "with open(img_name, \"wb\") as f:\n",
        "    f.write(img_data)\n",
        "\n",
        "# Crear archivo ZIP\n",
        "zip_name = \"imagen.zip\"\n",
        "with zipfile.ZipFile(zip_name, \"w\") as zipf:\n",
        "    zipf.write(img_name)\n",
        "\n",
        "print(f\"Imagen guardada y comprimida como {zip_name}\")\n",
        "\n",
        "# Descomprimir archivo\n",
        "with zipfile.ZipFile(zip_name, \"r\") as zipf:\n",
        "    zipf.extractall(\"imagen_unzipped\")\n",
        "\n",
        "print(\"Imagen descomprimida en carpeta 'imagen_unzipped'\")\n"
      ],
      "metadata": {
        "colab": {
          "base_uri": "https://localhost:8080/"
        },
        "id": "1gQ62P9d-uRK",
        "outputId": "6d93beb6-642b-45e6-c316-4722814101d7"
      },
      "execution_count": 12,
      "outputs": [
        {
          "output_type": "stream",
          "name": "stdout",
          "text": [
            "Imagen guardada y comprimida como imagen.zip\n",
            "Imagen descomprimida en carpeta 'imagen_unzipped'\n"
          ]
        }
      ]
    },
    {
      "cell_type": "code",
      "execution_count": null,
      "metadata": {
        "id": "yIYLXfIhug1T"
      },
      "outputs": [],
      "source": []
    }
  ]
}